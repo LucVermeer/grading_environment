{
 "cells": [
  {
   "cell_type": "markdown",
   "metadata": {
    "nbgrader": {
     "grade": false,
     "grade_id": "cell-c02122563d9a6938",
     "locked": true,
     "schema_version": 3,
     "solution": false,
     "task": false
    }
   },
   "source": [
    "# The Titanic: A Tale of Tragedy and Data\n",
    "\n",
    "Over a century ago, in 1912, the RMS Titanic embarked on its maiden voyage, holding the hopes and dreams of many aboard. Hailed as the \"unsinkable\" ship, its tragic sinking after colliding with an iceberg remains one of the most infamous maritime disasters in history. Of the 2,224 passengers and crew members aboard, over 1,500 lost their lives, making the event a somber testament to the limits of human hubris and the vulnerabilities of technology.\n",
    "\n",
    "While the Titanic's story has been retold through numerous films, books, and documentaries, it also presents a unique data challenge. The Titanic dataset, which we'll delve into in this notebook, holds information about the passengers - from their age and gender to the fare they paid for their ticket. As aspiring data scientists in the field of Computational Social Science, our goal is to use this data not just to understand the tragedy better, but to also draw insights into socio-economic patterns of that era and, most importantly, predict survival based on various features.\n",
    "\n",
    "**Objectives of this Notebook**:\n",
    "\n",
    "1. **Understanding the Dataset**: Before any analysis, it's crucial to understand the nature and structure of our data. What information do we have? What might be missing?\n",
    "\n",
    "2. **Building a Baseline Model**: We'll dive into the world of supervised machine learning by predicting survival on the Titanic. But before we get sophisticated, let's see how well we can do with a simple, minimally processed dataset.\n",
    "\n",
    "3. **The Power of Feature Engineering**: After establishing a baseline, we'll explore the art and science of feature engineering. How can we extract or transform data to make it more valuable for our predictions?\n",
    "\n",
    "4. **Evaluation & Interpretation**: A model is only as good as its performance. We'll learn how to gauge the effectiveness of our predictions and interpret the results in the broader context of socio-economic indicators.\n",
    "\n",
    "5. **Broadening our Toolkit**: While we'll start with a logistic regression model, the world of machine learning is vast. We'll also get a glimpse of another model, the Decision Tree, and understand its strengths.\n",
    "\n",
    "By the end of this notebook, not only will you have a better appreciation for the intricacies of the Titanic dataset, but you'll also possess a foundational understanding of supervised machine learning, the importance of feature engineering, and the tools for model evaluation. So, let's embark on this analytical journey and unravel the patterns hidden in the Titanic's data!\n",
    "\n"
   ]
  },
  {
   "cell_type": "markdown",
   "metadata": {
    "nbgrader": {
     "grade": false,
     "grade_id": "cell-d2c3e98fbc1cfb62",
     "locked": true,
     "schema_version": 3,
     "solution": false,
     "task": false
    },
    "vscode": {
     "languageId": "plaintext"
    }
   },
   "source": [
    "#### Setup and requirements\n",
    "\n",
    "Let's start by installing the required packages if you haven't done so already. Uncomment the following cell with command Ctrl+/ and run it to install the packages."
   ]
  },
  {
   "cell_type": "code",
   "execution_count": 10,
   "metadata": {},
   "outputs": [],
   "source": [
    "# !pip install pandas numpy scikit-learn"
   ]
  },
  {
   "cell_type": "code",
   "execution_count": 11,
   "metadata": {},
   "outputs": [],
   "source": [
    "# !pip install matplotlib seaborn"
   ]
  },
  {
   "cell_type": "code",
   "execution_count": 3,
   "metadata": {
    "nbgrader": {
     "grade": false,
     "grade_id": "cell-ac182722e45a7a80",
     "locked": true,
     "schema_version": 3,
     "solution": false,
     "task": false
    }
   },
   "outputs": [],
   "source": [
    "import pandas as pd\n",
    "import numpy as np\n",
    "from sklearn.model_selection import train_test_split\n",
    "from sklearn.metrics import accuracy_score, precision_score, recall_score, f1_score, roc_curve, auc\n",
    "from sklearn.tree import DecisionTreeClassifier\n"
   ]
  },
  {
   "cell_type": "markdown",
   "metadata": {
    "nbgrader": {
     "grade": false,
     "grade_id": "cell-6236c81048d0ed2e",
     "locked": true,
     "schema_version": 3,
     "solution": false,
     "task": false
    }
   },
   "source": [
    "## Understanding the dataset\n",
    "\n",
    "### Loading the dataset\n",
    "\n",
    "Let's load the provided dataset with the data about the passengers into a pandas DataFrame and start exploring it."
   ]
  },
  {
   "cell_type": "code",
   "execution_count": 5,
   "metadata": {},
   "outputs": [
    {
     "data": {
      "text/html": [
       "<div>\n",
       "<style scoped>\n",
       "    .dataframe tbody tr th:only-of-type {\n",
       "        vertical-align: middle;\n",
       "    }\n",
       "\n",
       "    .dataframe tbody tr th {\n",
       "        vertical-align: top;\n",
       "    }\n",
       "\n",
       "    .dataframe thead th {\n",
       "        text-align: right;\n",
       "    }\n",
       "</style>\n",
       "<table border=\"1\" class=\"dataframe\">\n",
       "  <thead>\n",
       "    <tr style=\"text-align: right;\">\n",
       "      <th></th>\n",
       "      <th>PassengerId</th>\n",
       "      <th>Survived</th>\n",
       "      <th>Pclass</th>\n",
       "      <th>Name</th>\n",
       "      <th>Sex</th>\n",
       "      <th>Age</th>\n",
       "      <th>SibSp</th>\n",
       "      <th>Parch</th>\n",
       "      <th>Ticket</th>\n",
       "      <th>Fare</th>\n",
       "      <th>Cabin</th>\n",
       "      <th>Embarked</th>\n",
       "    </tr>\n",
       "  </thead>\n",
       "  <tbody>\n",
       "    <tr>\n",
       "      <th>0</th>\n",
       "      <td>1</td>\n",
       "      <td>0</td>\n",
       "      <td>3</td>\n",
       "      <td>Braund, Mr. Owen Harris</td>\n",
       "      <td>male</td>\n",
       "      <td>22.0</td>\n",
       "      <td>1</td>\n",
       "      <td>0</td>\n",
       "      <td>A/5 21171</td>\n",
       "      <td>7.2500</td>\n",
       "      <td>NaN</td>\n",
       "      <td>S</td>\n",
       "    </tr>\n",
       "    <tr>\n",
       "      <th>1</th>\n",
       "      <td>2</td>\n",
       "      <td>1</td>\n",
       "      <td>1</td>\n",
       "      <td>Cumings, Mrs. John Bradley (Florence Briggs Th...</td>\n",
       "      <td>female</td>\n",
       "      <td>38.0</td>\n",
       "      <td>1</td>\n",
       "      <td>0</td>\n",
       "      <td>PC 17599</td>\n",
       "      <td>71.2833</td>\n",
       "      <td>C85</td>\n",
       "      <td>C</td>\n",
       "    </tr>\n",
       "    <tr>\n",
       "      <th>2</th>\n",
       "      <td>3</td>\n",
       "      <td>1</td>\n",
       "      <td>3</td>\n",
       "      <td>Heikkinen, Miss. Laina</td>\n",
       "      <td>female</td>\n",
       "      <td>26.0</td>\n",
       "      <td>0</td>\n",
       "      <td>0</td>\n",
       "      <td>STON/O2. 3101282</td>\n",
       "      <td>7.9250</td>\n",
       "      <td>NaN</td>\n",
       "      <td>S</td>\n",
       "    </tr>\n",
       "    <tr>\n",
       "      <th>3</th>\n",
       "      <td>4</td>\n",
       "      <td>1</td>\n",
       "      <td>1</td>\n",
       "      <td>Futrelle, Mrs. Jacques Heath (Lily May Peel)</td>\n",
       "      <td>female</td>\n",
       "      <td>35.0</td>\n",
       "      <td>1</td>\n",
       "      <td>0</td>\n",
       "      <td>113803</td>\n",
       "      <td>53.1000</td>\n",
       "      <td>C123</td>\n",
       "      <td>S</td>\n",
       "    </tr>\n",
       "    <tr>\n",
       "      <th>4</th>\n",
       "      <td>5</td>\n",
       "      <td>0</td>\n",
       "      <td>3</td>\n",
       "      <td>Allen, Mr. William Henry</td>\n",
       "      <td>male</td>\n",
       "      <td>35.0</td>\n",
       "      <td>0</td>\n",
       "      <td>0</td>\n",
       "      <td>373450</td>\n",
       "      <td>8.0500</td>\n",
       "      <td>NaN</td>\n",
       "      <td>S</td>\n",
       "    </tr>\n",
       "  </tbody>\n",
       "</table>\n",
       "</div>"
      ],
      "text/plain": [
       "   PassengerId  Survived  Pclass  \\\n",
       "0            1         0       3   \n",
       "1            2         1       1   \n",
       "2            3         1       3   \n",
       "3            4         1       1   \n",
       "4            5         0       3   \n",
       "\n",
       "                                                Name     Sex   Age  SibSp  \\\n",
       "0                            Braund, Mr. Owen Harris    male  22.0      1   \n",
       "1  Cumings, Mrs. John Bradley (Florence Briggs Th...  female  38.0      1   \n",
       "2                             Heikkinen, Miss. Laina  female  26.0      0   \n",
       "3       Futrelle, Mrs. Jacques Heath (Lily May Peel)  female  35.0      1   \n",
       "4                           Allen, Mr. William Henry    male  35.0      0   \n",
       "\n",
       "   Parch            Ticket     Fare Cabin Embarked  \n",
       "0      0         A/5 21171   7.2500   NaN        S  \n",
       "1      0          PC 17599  71.2833   C85        C  \n",
       "2      0  STON/O2. 3101282   7.9250   NaN        S  \n",
       "3      0            113803  53.1000  C123        S  \n",
       "4      0            373450   8.0500   NaN        S  "
      ]
     },
     "metadata": {},
     "output_type": "display_data"
    }
   ],
   "source": [
    "# The data paths\n",
    "training_data_path = 'train.csv'\n",
    "test_data_path = 'test.csv'\n",
    "\n",
    "# Read the data\n",
    "training_data = pd.read_csv(training_data_path)\n",
    "test_data = pd.read_csv(test_data_path)\n",
    "\n",
    "display(training_data.head())"
   ]
  },
  {
   "cell_type": "markdown",
   "metadata": {
    "nbgrader": {
     "grade": false,
     "grade_id": "cell-7d0252d32d599761",
     "locked": true,
     "schema_version": 3,
     "solution": false,
     "task": false
    }
   },
   "source": [
    "### Looking at the data\n",
    "\n",
    "Here we see the data that we are working with in a tabular format. It is important to get a good grasp of the data to see if their are any patterns or attributes that might turn out useful for us in predicting the survival of passengers. As a starter, let's take a look at all the columns our data has:\n",
    "\n",
    "- **PassengerId**: The unique ID of each passenger\n",
    "- **Survived**: Whether the passenger survived or not, 1 indicates the passanger survived; 0 if not.\n",
    "- **Pclass**: Ticket class \n",
    "- **Name**: The name of the passenger, including a title\n",
    "- **Sex**: Sex\n",
    "- **Age**: Age in years\n",
    "- **SibSp**: # of siblings / spouses aboard the Titanic\n",
    "- **Parch**: # of parents / children aboard the Titanic\n",
    "- **Ticket**: Ticket number\n",
    "- **Fare**: Passenger fare\n",
    "- **Cabin**: Cabin number\n",
    "- **Embarked**: Where did the passenger embark? S = Southampton, C = Cherbourg, \n",
    "\n",
    "Now that we have a general idea of what the data looks like, let's make some adjustments to make it easier to work with."
   ]
  },
  {
   "cell_type": "markdown",
   "metadata": {
    "nbgrader": {
     "grade": false,
     "grade_id": "cell-dbf045f20fc34b3d",
     "locked": true,
     "schema_version": 3,
     "solution": false,
     "task": false
    }
   },
   "source": [
    "## Data Transformation\n",
    "As observed in the dataset, our variables consist of different datatypes. Features like `Survived` and `Pclass` are integers, whereas `Sex` and `Embarked` are strings. Machine learning models operate primarily on numerical data, requiring us to convert non-numerical values into a numerical format.\n",
    "\n",
    "Categorical data, such as Sex and Embarked, fall into two categories:\n",
    "\n",
    "- **Ordinal**: These have a natural order, like 'low', 'medium', 'high', or the `Pclass` in our dataset.\n",
    "- **Nominal**: These lack a natural order, like 'male' and 'female' or city names.\n",
    "For ordinal data, a simple integer encoding might suffice, representing each category with a unique integer. However, for nominal data, this can introduce unintentional relationships. For instance, encoding 'male' as 1 and 'female' as 2 might suggest a numeric order, confusing the model.\n",
    "\n",
    "This is where one-hot encoding comes into play. It transforms each nominal category into a new binary column. For Sex, we'd get two columns: is_Male and is_Female. An observation with 'male' would be represented as `is_Male` = 1 and `is_Female` = 0. However, in the case of this dataset, `is_Male` is the negation of `is_Female`, therefore we will only need one column to contain all information about sex.\n",
    "\n",
    "One-hot encoding ensures our machine learning models treat these values as distinct categories without imposing an artificial order, making our data suitable for training.\n",
    "\n",
    "### Assignment 1: Transform the data (4 pts)\n",
    "Now it is up to you to create one-hot encoding for the categorical data in our dataset. For this, we can use pandas built-in function `get_dummies`. Check out the documentation and complete the function below: https://pandas.pydata.org/docs/reference/api/pandas.get_dummies.html"
   ]
  },
  {
   "cell_type": "code",
   "execution_count": 22,
   "metadata": {
    "nbgrader": {
     "grade": false,
     "grade_id": "transforming_data",
     "locked": false,
     "schema_version": 3,
     "solution": true,
     "task": false
    }
   },
   "outputs": [
    {
     "data": {
      "text/html": [
       "<div>\n",
       "<style scoped>\n",
       "    .dataframe tbody tr th:only-of-type {\n",
       "        vertical-align: middle;\n",
       "    }\n",
       "\n",
       "    .dataframe tbody tr th {\n",
       "        vertical-align: top;\n",
       "    }\n",
       "\n",
       "    .dataframe thead th {\n",
       "        text-align: right;\n",
       "    }\n",
       "</style>\n",
       "<table border=\"1\" class=\"dataframe\">\n",
       "  <thead>\n",
       "    <tr style=\"text-align: right;\">\n",
       "      <th></th>\n",
       "      <th>PassengerId</th>\n",
       "      <th>Survived</th>\n",
       "      <th>Pclass</th>\n",
       "      <th>Name</th>\n",
       "      <th>Age</th>\n",
       "      <th>SibSp</th>\n",
       "      <th>Parch</th>\n",
       "      <th>Ticket</th>\n",
       "      <th>Fare</th>\n",
       "      <th>Cabin</th>\n",
       "      <th>male</th>\n",
       "      <th>embarked_C</th>\n",
       "      <th>embarked_Q</th>\n",
       "      <th>embarked_S</th>\n",
       "    </tr>\n",
       "  </thead>\n",
       "  <tbody>\n",
       "    <tr>\n",
       "      <th>0</th>\n",
       "      <td>1</td>\n",
       "      <td>0</td>\n",
       "      <td>3</td>\n",
       "      <td>Braund, Mr. Owen Harris</td>\n",
       "      <td>22.0</td>\n",
       "      <td>1</td>\n",
       "      <td>0</td>\n",
       "      <td>A/5 21171</td>\n",
       "      <td>7.2500</td>\n",
       "      <td>NaN</td>\n",
       "      <td>True</td>\n",
       "      <td>False</td>\n",
       "      <td>False</td>\n",
       "      <td>True</td>\n",
       "    </tr>\n",
       "    <tr>\n",
       "      <th>1</th>\n",
       "      <td>2</td>\n",
       "      <td>1</td>\n",
       "      <td>1</td>\n",
       "      <td>Cumings, Mrs. John Bradley (Florence Briggs Th...</td>\n",
       "      <td>38.0</td>\n",
       "      <td>1</td>\n",
       "      <td>0</td>\n",
       "      <td>PC 17599</td>\n",
       "      <td>71.2833</td>\n",
       "      <td>C85</td>\n",
       "      <td>False</td>\n",
       "      <td>True</td>\n",
       "      <td>False</td>\n",
       "      <td>False</td>\n",
       "    </tr>\n",
       "    <tr>\n",
       "      <th>2</th>\n",
       "      <td>3</td>\n",
       "      <td>1</td>\n",
       "      <td>3</td>\n",
       "      <td>Heikkinen, Miss. Laina</td>\n",
       "      <td>26.0</td>\n",
       "      <td>0</td>\n",
       "      <td>0</td>\n",
       "      <td>STON/O2. 3101282</td>\n",
       "      <td>7.9250</td>\n",
       "      <td>NaN</td>\n",
       "      <td>False</td>\n",
       "      <td>False</td>\n",
       "      <td>False</td>\n",
       "      <td>True</td>\n",
       "    </tr>\n",
       "    <tr>\n",
       "      <th>3</th>\n",
       "      <td>4</td>\n",
       "      <td>1</td>\n",
       "      <td>1</td>\n",
       "      <td>Futrelle, Mrs. Jacques Heath (Lily May Peel)</td>\n",
       "      <td>35.0</td>\n",
       "      <td>1</td>\n",
       "      <td>0</td>\n",
       "      <td>113803</td>\n",
       "      <td>53.1000</td>\n",
       "      <td>C123</td>\n",
       "      <td>False</td>\n",
       "      <td>False</td>\n",
       "      <td>False</td>\n",
       "      <td>True</td>\n",
       "    </tr>\n",
       "    <tr>\n",
       "      <th>4</th>\n",
       "      <td>5</td>\n",
       "      <td>0</td>\n",
       "      <td>3</td>\n",
       "      <td>Allen, Mr. William Henry</td>\n",
       "      <td>35.0</td>\n",
       "      <td>0</td>\n",
       "      <td>0</td>\n",
       "      <td>373450</td>\n",
       "      <td>8.0500</td>\n",
       "      <td>NaN</td>\n",
       "      <td>True</td>\n",
       "      <td>False</td>\n",
       "      <td>False</td>\n",
       "      <td>True</td>\n",
       "    </tr>\n",
       "  </tbody>\n",
       "</table>\n",
       "</div>"
      ],
      "text/plain": [
       "   PassengerId  Survived  Pclass  \\\n",
       "0            1         0       3   \n",
       "1            2         1       1   \n",
       "2            3         1       3   \n",
       "3            4         1       1   \n",
       "4            5         0       3   \n",
       "\n",
       "                                                Name   Age  SibSp  Parch  \\\n",
       "0                            Braund, Mr. Owen Harris  22.0      1      0   \n",
       "1  Cumings, Mrs. John Bradley (Florence Briggs Th...  38.0      1      0   \n",
       "2                             Heikkinen, Miss. Laina  26.0      0      0   \n",
       "3       Futrelle, Mrs. Jacques Heath (Lily May Peel)  35.0      1      0   \n",
       "4                           Allen, Mr. William Henry  35.0      0      0   \n",
       "\n",
       "             Ticket     Fare Cabin   male  embarked_C  embarked_Q  embarked_S  \n",
       "0         A/5 21171   7.2500   NaN   True       False       False        True  \n",
       "1          PC 17599  71.2833   C85  False        True       False       False  \n",
       "2  STON/O2. 3101282   7.9250   NaN  False       False       False        True  \n",
       "3            113803  53.1000  C123  False       False       False        True  \n",
       "4            373450   8.0500   NaN   True       False       False        True  "
      ]
     },
     "metadata": {},
     "output_type": "display_data"
    },
    {
     "data": {
      "text/html": [
       "<div>\n",
       "<style scoped>\n",
       "    .dataframe tbody tr th:only-of-type {\n",
       "        vertical-align: middle;\n",
       "    }\n",
       "\n",
       "    .dataframe tbody tr th {\n",
       "        vertical-align: top;\n",
       "    }\n",
       "\n",
       "    .dataframe thead th {\n",
       "        text-align: right;\n",
       "    }\n",
       "</style>\n",
       "<table border=\"1\" class=\"dataframe\">\n",
       "  <thead>\n",
       "    <tr style=\"text-align: right;\">\n",
       "      <th></th>\n",
       "      <th>PassengerId</th>\n",
       "      <th>Pclass</th>\n",
       "      <th>Name</th>\n",
       "      <th>Age</th>\n",
       "      <th>SibSp</th>\n",
       "      <th>Parch</th>\n",
       "      <th>Ticket</th>\n",
       "      <th>Fare</th>\n",
       "      <th>Cabin</th>\n",
       "      <th>is_male</th>\n",
       "      <th>embarked_C</th>\n",
       "      <th>embarked_Q</th>\n",
       "      <th>embarked_S</th>\n",
       "    </tr>\n",
       "  </thead>\n",
       "  <tbody>\n",
       "    <tr>\n",
       "      <th>0</th>\n",
       "      <td>892</td>\n",
       "      <td>3</td>\n",
       "      <td>Kelly, Mr. James</td>\n",
       "      <td>34.5</td>\n",
       "      <td>0</td>\n",
       "      <td>0</td>\n",
       "      <td>330911</td>\n",
       "      <td>7.8292</td>\n",
       "      <td>NaN</td>\n",
       "      <td>True</td>\n",
       "      <td>False</td>\n",
       "      <td>True</td>\n",
       "      <td>False</td>\n",
       "    </tr>\n",
       "    <tr>\n",
       "      <th>1</th>\n",
       "      <td>893</td>\n",
       "      <td>3</td>\n",
       "      <td>Wilkes, Mrs. James (Ellen Needs)</td>\n",
       "      <td>47.0</td>\n",
       "      <td>1</td>\n",
       "      <td>0</td>\n",
       "      <td>363272</td>\n",
       "      <td>7.0000</td>\n",
       "      <td>NaN</td>\n",
       "      <td>False</td>\n",
       "      <td>False</td>\n",
       "      <td>False</td>\n",
       "      <td>True</td>\n",
       "    </tr>\n",
       "    <tr>\n",
       "      <th>2</th>\n",
       "      <td>894</td>\n",
       "      <td>2</td>\n",
       "      <td>Myles, Mr. Thomas Francis</td>\n",
       "      <td>62.0</td>\n",
       "      <td>0</td>\n",
       "      <td>0</td>\n",
       "      <td>240276</td>\n",
       "      <td>9.6875</td>\n",
       "      <td>NaN</td>\n",
       "      <td>True</td>\n",
       "      <td>False</td>\n",
       "      <td>True</td>\n",
       "      <td>False</td>\n",
       "    </tr>\n",
       "    <tr>\n",
       "      <th>3</th>\n",
       "      <td>895</td>\n",
       "      <td>3</td>\n",
       "      <td>Wirz, Mr. Albert</td>\n",
       "      <td>27.0</td>\n",
       "      <td>0</td>\n",
       "      <td>0</td>\n",
       "      <td>315154</td>\n",
       "      <td>8.6625</td>\n",
       "      <td>NaN</td>\n",
       "      <td>True</td>\n",
       "      <td>False</td>\n",
       "      <td>False</td>\n",
       "      <td>True</td>\n",
       "    </tr>\n",
       "    <tr>\n",
       "      <th>4</th>\n",
       "      <td>896</td>\n",
       "      <td>3</td>\n",
       "      <td>Hirvonen, Mrs. Alexander (Helga E Lindqvist)</td>\n",
       "      <td>22.0</td>\n",
       "      <td>1</td>\n",
       "      <td>1</td>\n",
       "      <td>3101298</td>\n",
       "      <td>12.2875</td>\n",
       "      <td>NaN</td>\n",
       "      <td>False</td>\n",
       "      <td>False</td>\n",
       "      <td>False</td>\n",
       "      <td>True</td>\n",
       "    </tr>\n",
       "  </tbody>\n",
       "</table>\n",
       "</div>"
      ],
      "text/plain": [
       "   PassengerId  Pclass                                          Name   Age  \\\n",
       "0          892       3                              Kelly, Mr. James  34.5   \n",
       "1          893       3              Wilkes, Mrs. James (Ellen Needs)  47.0   \n",
       "2          894       2                     Myles, Mr. Thomas Francis  62.0   \n",
       "3          895       3                              Wirz, Mr. Albert  27.0   \n",
       "4          896       3  Hirvonen, Mrs. Alexander (Helga E Lindqvist)  22.0   \n",
       "\n",
       "   SibSp  Parch   Ticket     Fare Cabin  is_male  embarked_C  embarked_Q  \\\n",
       "0      0      0   330911   7.8292   NaN     True       False        True   \n",
       "1      1      0   363272   7.0000   NaN    False       False       False   \n",
       "2      0      0   240276   9.6875   NaN     True       False        True   \n",
       "3      0      0   315154   8.6625   NaN     True       False       False   \n",
       "4      1      1  3101298  12.2875   NaN    False       False       False   \n",
       "\n",
       "   embarked_S  \n",
       "0       False  \n",
       "1        True  \n",
       "2       False  \n",
       "3        True  \n",
       "4        True  "
      ]
     },
     "metadata": {},
     "output_type": "display_data"
    }
   ],
   "source": [
    "import pandas as pd\n",
    "\n",
    "def transform_data(df):\n",
    "    \"\"\"\n",
    "    Transforms the input dataframe by encoding categorical variables in 4 ways:\n",
    "        1. Use pd.get_dummies to encode the 'Sex' column, set the 'drop_first' parameter to True.\n",
    "        2. Do the same for the 'Embarked column'\n",
    "        3. Concatenate the original dataframe with the newly generated columns.\n",
    "        4. Drop the original columns.\n",
    "        \n",
    "    Please do not rename any columns, \n",
    "    your solution will not pass the auto-graded tests if you do; \n",
    "    It's better if they do.\n",
    "    \n",
    "    Parameters:\n",
    "    - df : DataFrame : Input dataset\n",
    "    \n",
    "    Returns:\n",
    "    - df_transformed : DataFrame : Transformed dataset with one-hot encoded columns.\n",
    "    \"\"\"\n",
    "    ### BEGIN SOLUTION\n",
    "    sex_encoding = pd.get_dummies(df['Sex'], prefix='is', drop_first=True)\n",
    "    embarked_encoding = pd.get_dummies(df['Embarked'], prefix='embarked', drop_first=False)\n",
    "    df_transformed = pd.concat([df, sex_encoding, embarked_encoding], axis=1)\n",
    "    df_transformed.drop(columns=['Sex', 'Embarked'], inplace=True)\n",
    "    ### END SOLUTION\n",
    "    \n",
    "    return df_transformed\n",
    "\n",
    "train_set = transform_data(training_data)\n",
    "\n",
    "display(train_set.head())\n",
    "display(test_set.head())\n"
   ]
  },
  {
   "cell_type": "code",
   "execution_count": null,
   "metadata": {
    "nbgrader": {
     "grade": true,
     "grade_id": "run_function",
     "locked": true,
     "points": 0,
     "schema_version": 3,
     "solution": false,
     "task": false
    }
   },
   "outputs": [],
   "source": [
    "# Sample data\n",
    "sample_data = pd.DataFrame({\n",
    "    'Sex': ['male', 'female', 'female', 'male'],\n",
    "    'Embarked': ['C', 'S', 'Q', 'S'],\n",
    "    'Age': [22, 28, 35, 54]\n",
    "})\n",
    "\n",
    "transformed_data = transform_data(sample_data.copy())"
   ]
  },
  {
   "cell_type": "code",
   "execution_count": null,
   "metadata": {
    "nbgrader": {
     "grade": true,
     "grade_id": "columns_removed",
     "locked": true,
     "points": 1,
     "schema_version": 3,
     "solution": false,
     "task": false
    }
   },
   "outputs": [],
   "source": [
    "### BEGIN HIDDEN TESTS\n",
    "# Check if original columns are removed\n",
    "assert 'Sex' not in transformed_data.columns, \"The 'Sex' column should be removed.\"\n",
    "assert 'Embarked' not in transformed_data.columns, \"The 'Embarked' column should be removed.\"\n",
    "### END HIDDEN TESTS"
   ]
  },
  {
   "cell_type": "code",
   "execution_count": null,
   "metadata": {
    "nbgrader": {
     "grade": true,
     "grade_id": "one_hot_encoded",
     "locked": true,
     "points": 2,
     "schema_version": 3,
     "solution": false,
     "task": false
    }
   },
   "outputs": [],
   "source": [
    "### BEGIN HIDDEN TESTS\n",
    "# Check for one-hot encoded columns\n",
    "possible_sex_cols = sum([\"male\" in col.lower() or \"female\" in col.lower() for col in transformed_data.columns])\n",
    "assert possible_sex_cols >= 1, \"There should be at least one column related to 'Sex' encoding.\"\n",
    "\n",
    "possible_embarked_cols = sum([\"C\" in col or \"S\" in col or \"Q\" in col for col in transformed_data.columns])\n",
    "assert possible_embarked_cols >= 2, \"There should be at least two columns related to 'Embarked' encoding.\"\n",
    "### END HIDDEN TESTS"
   ]
  },
  {
   "cell_type": "code",
   "execution_count": null,
   "metadata": {
    "nbgrader": {
     "grade": true,
     "grade_id": "data_integrity",
     "locked": true,
     "points": 1,
     "schema_version": 3,
     "solution": false,
     "task": false
    }
   },
   "outputs": [],
   "source": [
    "### BEGIN HIDDEN TESTS\n",
    "# Check data integrity\n",
    "assert len(sample_data) == len(transformed_data), \"The number of rows should remain unchanged.\"\n",
    "male_encoded_values = sum([transformed_data[col].sum() for col in transformed_data.columns if \"_male\" in col.lower()])\n",
    "assert male_encoded_values == 2, \"There should be two 'male' entries in the sample data.\"\n",
    "### END HIDDEN TESTS"
   ]
  },
  {
   "cell_type": "markdown",
   "metadata": {},
   "source": [
    "Great! Now that our data is in a more numerical format we can look into any correlations that might help us in making predictions. Let's take a look at a correlation matrix. Pandas has a built-in function for this that calculates the Pearson correlation between every combination of two variables.\n",
    "\n",
    "The Pearson correlation coefficient, often denoted as $r$, is a measure that captures the strength and direction of a linear relationship between two variables. It returns a value between -1 and 1:\n",
    "\n",
    "- Close to 1: Indicates a strong positive linear relationship.\n",
    "- Close to -1: Indicates a strong negative linear relationship.\n",
    "- Close to 0: Indicates little to no linear relationship between the variables.\n",
    "\n",
    "Mathematical Definition:\n",
    "\n",
    "Given two variables, $X$ and $Y$, with data points $x_1, x_2, ... x_n$ and $y_1, y_2, ... y_n$ respectively, the Pearson correlation coefficient $r$ is defined as:\n",
    "\n",
    "$$r = \\frac{\\sum_{i=1}^{n} (x_i - \\bar{x})(y_i - \\bar{y})}{\\sqrt{\\sum_{i=1}^{n} (x_i - \\bar{x})^2} \\sqrt{\\sum_{i=1}^{n} (y_i - \\bar{y})^2}}$$\n",
    "\n",
    "Where:\n",
    "\n",
    "- $\\bar{x}$  is the mean of variable $X$.\n",
    "- $\\bar{y}$ is the mean of variable $Y$."
   ]
  },
  {
   "cell_type": "code",
   "execution_count": 16,
   "metadata": {
    "nbgrader": {
     "grade": false,
     "grade_id": "cell-b868ecefaadfdd88",
     "locked": true,
     "schema_version": 3,
     "solution": false,
     "task": false
    }
   },
   "outputs": [
    {
     "data": {
      "image/png": "[encoded data removed]",
      "text/plain": [
       "<Figure size 1200x800 with 2 Axes>"
      ]
     },
     "metadata": {},
     "output_type": "display_data"
    }
   ],
   "source": [
    "import matplotlib.pyplot as plt\n",
    "import seaborn as sns\n",
    "\n",
    "# Calculate the correlation matrix with the designated columns, for now we disregard any non-numerical features.\n",
    "corr_matrix = train_set[['Survived', \n",
    "                         'Pclass', \n",
    "                         'Age', \n",
    "                         'SibSp', \n",
    "                         'Parch', \n",
    "                         'Fare', \n",
    "                         'is_male', \n",
    "                         'embarked_C', \n",
    "                         'embarked_Q', \n",
    "                         'embarked_S']].corr()\n",
    "\n",
    "# Plot the heatmap\n",
    "plt.figure(figsize=(12,8))\n",
    "sns.heatmap(corr_matrix, annot=True, cmap='coolwarm', vmin=-1, vmax=1)\n",
    "plt.title(\"Correlation Matrix of Transformed Titanic Dataset\")\n",
    "plt.show()\n"
   ]
  },
  {
   "cell_type": "markdown",
   "metadata": {
    "nbgrader": {
     "grade": false,
     "grade_id": "cell-e2de08d27868642f",
     "locked": true,
     "schema_version": 3,
     "solution": false,
     "task": false
    }
   },
   "source": [
    "### Assignment 2: Plot interpretation (4 pts)\n",
    "Answer the following questions about the plot in the cell below:\n",
    "\n",
    "1. Why are values along the diagonal $1$?\n",
    "2. Which two distinct features show the strongest correlation?\n",
    "3. Had we still included the `is_female` column, what would be the Pearson coefficient with `is_male`?\n",
    "4. Which single feature is the most important in predicting our target label?\n"
   ]
  },
  {
   "cell_type": "markdown",
   "metadata": {
    "nbgrader": {
     "grade": true,
     "grade_id": "cell-de53375559653cd0",
     "locked": false,
     "points": 0,
     "schema_version": 3,
     "solution": true,
     "task": false
    }
   },
   "source": [
    "1. The diagonal shows the correlation between a value and itself, therefore the correlation is 1.\n",
    "2. The two features that show the strongest correlation are `Embarked_S` and `Embarked_C`.\n",
    "3. Because these values are mutually exclusive these would show a correlation of -1.\n",
    "4. The single feature that shows the strongest correlation with the `Survived` label is `is_male`."
   ]
  },
  {
   "cell_type": "markdown",
   "metadata": {},
   "source": [
    "### Assignment 3: Creating our first model (6 pts)\n",
    "\n",
    "-- Here there will be some basic explanation about decision trees.\n",
    "\n",
    "-- Maybe ask if they could make a decision tree with on decision what would it be to check intuition."
   ]
  },
  {
   "cell_type": "code",
   "execution_count": 20,
   "metadata": {
    "nbgrader": {
     "grade": false,
     "grade_id": "cell-1d341a3442ff69a7",
     "locked": false,
     "schema_version": 3,
     "solution": true,
     "task": false
    }
   },
   "outputs": [
    {
     "name": "stdout",
     "output_type": "stream",
     "text": [
      "Accuracy: 79.33%\n"
     ]
    }
   ],
   "source": [
    "from sklearn.tree import DecisionTreeClassifier\n",
    "from sklearn.metrics import accuracy_score\n",
    "from sklearn.model_selection import train_test_split\n",
    "\n",
    "# Splitting data into training and test set, for your features, make sure you exclude the target class and any non-numerical features.\n",
    "\n",
    "### BEGIN SOLUTION\n",
    "X = train_set[['Pclass', 'Age', 'SibSp', 'Parch', 'Fare', 'is_male', 'embarked_C', 'embarked_Q', 'embarked_S']]\n",
    "y = train_set['Survived']\n",
    "X_train, X_test, y_train, y_test = train_test_split(X, y, test_size=0.2, random_state=42)\n",
    "### END SOLUTION\n",
    "\n",
    "def train_decision_tree(X_train, y_train):\n",
    "    \"\"\"\n",
    "    Train a Decision Tree classifier on the provided training data and labels.\n",
    "    \n",
    "    Parameters:\n",
    "    - X_train : DataFrame : Training features\n",
    "    - y_train : Series : Training labels\n",
    "    \n",
    "    Returns:\n",
    "    - clf : DecisionTreeClassifier : Trained Decision Tree classifier\n",
    "    \"\"\"\n",
    "    \n",
    "    ### BEGIN SOLUTION\n",
    "    clf = DecisionTreeClassifier(random_state=42)\n",
    "    clf.fit(X_train, y_train)\n",
    "    ### END SOLUTION\n",
    "    \n",
    "    return clf\n",
    "\n",
    "# Autograding tests\n",
    "clf = train_decision_tree(X_train, y_train)\n",
    "y_pred = clf.predict(X_test)\n",
    "\n",
    "\n",
    "print(f\"Accuracy: {accuracy_score(y_test, y_pred) * 100:.2f}%\")"
   ]
  },
  {
   "cell_type": "code",
   "execution_count": 21,
   "metadata": {
    "nbgrader": {
     "grade": true,
     "grade_id": "cell-f99662ce2bdef946",
     "locked": true,
     "points": 6,
     "schema_version": 3,
     "solution": false,
     "task": false
    }
   },
   "outputs": [],
   "source": [
    "### BEGIN HIDDEN TESTS\n",
    "assert isinstance(clf, DecisionTreeClassifier)\n",
    "assert 'Survived' not in X.columns\n",
    "assert accuracy_score(y_test, y_pred) > 0.7\n",
    "### END HIDDEN TESTS"
   ]
  },
  {
   "cell_type": "markdown",
   "metadata": {
    "nbgrader": {
     "grade": false,
     "grade_id": "cell-1f97071610ce3d1f",
     "locked": true,
     "schema_version": 3,
     "solution": false,
     "task": false
    }
   },
   "source": [
    "To be continued with... random forests? Some feature engineering?"
   ]
  }
 ],
 "metadata": {
  "kernelspec": {
   "display_name": "Python 3 (ipykernel)",
   "language": "python",
   "name": "python3"
  },
  "language_info": {
   "codemirror_mode": {
    "name": "ipython",
    "version": 3
   },
   "file_extension": ".py",
   "mimetype": "text/x-python",
   "name": "python",
   "nbconvert_exporter": "python",
   "pygments_lexer": "ipython3",
   "version": "3.8.18"
  }
 },
 "nbformat": 4,
 "nbformat_minor": 4
}
